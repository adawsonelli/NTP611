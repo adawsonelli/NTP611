{
 "cells": [
  {
   "cell_type": "markdown",
   "metadata": {},
   "source": [
    "### Time of Flight Isosurface\n",
    "This is a computer simulation that will attempt to answer the question, first in 2D and eventually in 3d, what does the iso line or iso surface look like for a constant time (or distance) difference, for a Time of flight calcualtion between two ears.   \n",
    "\n",
    "**assumptions**\n",
    "- speed of sound in the same everywhere (medium differneces in head are not accounted for\n",
    "- all sound come from a point source\n",
    "- we will work in difference in distance rather than time, but the results would be the same\n",
    "- we normalize location of ears (see below)\n",
    "\n",
    "below are the handwritten notes that accompany this analysis:\n",
    "\n",
    "![p1.png](imgs/equConstrainted.PNG)\n",
    "![p2.png](imgs/equConstrainted.PNG)"
   ]
  },
  {
   "cell_type": "code",
   "execution_count": 157,
   "metadata": {},
   "outputs": [],
   "source": [
    "#define simulation constants\n",
    "Lx = -1     #left ear x\n",
    "Ly =  0     #left ear y\n",
    "Rx =  1     #right ear x\n",
    "Ry =  0;     #right ear y"
   ]
  },
  {
   "cell_type": "code",
   "execution_count": 158,
   "metadata": {},
   "outputs": [
    {
     "data": {
      "text/plain": [
       "NRsolve"
      ]
     },
     "execution_count": 158,
     "metadata": {},
     "output_type": "execute_result"
    }
   ],
   "source": [
    "\"\"\"\n",
    "solve the non-linear algebreic equations of constraint using the Newton-Rapson method\n",
    "inputs:\n",
    "    Px0 , Py0 = seed location for NR algorithm\n",
    "    c = difference in distance between two ears\n",
    "    d2 = the distance of leg2 (see sketch for details)\n",
    "\"\"\"\n",
    "function NRsolve(Lx,Ly,Rx,Ry,Px0,Py0,c,d2)\n",
    "    #break counter\n",
    "    ctr = 1  \n",
    "    #initialize q\n",
    "    q = [Px0,Py0]\n",
    "    while norm([q]) > .000005\n",
    "        #calculate the jacobian of the expression\n",
    "        jac = [2*(q[1] - Lx) 2*(q[2] - Ly) ;\n",
    "               2*(q[1] - Rx) 2*(q[2] - Ry)]\n",
    "        #calculate the expression @ guess\n",
    "        phi = [(q[1] - Lx)^2 + (q[2] - Ly)^2 - (c + d2)^2 ; (q[1] - Rx)^2 + (q[2] - Ry)^2 - d2^2]\n",
    "        \n",
    "        #calcuate dq\n",
    "        dq = jac \\ -phi\n",
    "        \n",
    "        #increment dq\n",
    "        q += dq\n",
    "        \n",
    "         #increment ctr\n",
    "        ctr += 1\n",
    "        if ctr > 100 break end\n",
    "    end\n",
    "    return q  #q = Px,Py\n",
    "end"
   ]
  },
  {
   "cell_type": "markdown",
   "metadata": {},
   "source": [
    "now we will test out our function with (several) test cases"
   ]
  },
  {
   "cell_type": "code",
   "execution_count": 8,
   "metadata": {},
   "outputs": [
    {
     "name": "stdout",
     "output_type": "stream",
     "text": [
      "value should be (0,1): [0.0, 1.0]\n",
      "value should be (0,-1): [0.0, -1.0]\n"
     ]
    }
   ],
   "source": [
    "#we know the analytical solution to this one:\n",
    "println(\"value should be (0,1): \", NRsolve(Lx,Ly,Rx,Ry,1,1,0,2))\n",
    "println(\"value should be (0,-1): \", NRsolve(Lx,Ly,Rx,Ry,-1,-1,0,2))\n"
   ]
  },
  {
   "cell_type": "markdown",
   "metadata": {},
   "source": [
    "Looks like our numerical solver is working pretty well. Time to sample the space, and plot isolines for various values of c"
   ]
  },
  {
   "cell_type": "code",
   "execution_count": 155,
   "metadata": {},
   "outputs": [],
   "source": [
    "c = [0.01, .5, 1.0, 1.5, 2.0]\n",
    "d2 = 0:1:1000\n",
    "paths = zeros(length(d2),length(c),2)\n",
    "\n",
    "for (isoID,isoLine) in enumerate(c)\n",
    "    for (dID,dist) in enumerate(d2)\n",
    "        x , y = NRsolve(Lx,Ly,Rx,Ry,5,5,isoLine,dist)\n",
    "        paths[dID,isoID,1] = x ; paths[dID,isoID,2] = y \n",
    "    end\n",
    "end"
   ]
  },
  {
   "cell_type": "code",
   "execution_count": 156,
   "metadata": {},
   "outputs": [
    {
     "data": {
      "image/png": "[encoded data removed]",
      "text/plain": [
       "PyPlot.Figure(PyObject <matplotlib.figure.Figure object at 0x000000002C89C208>)"
      ]
     },
     "metadata": {},
     "output_type": "display_data"
    },
    {
     "data": {
      "text/plain": [
       "1-element Array{PyCall.PyObject,1}:\n",
       " PyObject <matplotlib.lines.Line2D object at 0x000000002C99A748>"
      ]
     },
     "execution_count": 156,
     "metadata": {},
     "output_type": "execute_result"
    }
   ],
   "source": [
    "using PyPlot\n",
    "axis([-10,10,-10,10])\n",
    "for (isoID,isoline) in enumerate(c)\n",
    "    plot(paths[:,isoID,1],paths[:,isoID,2])\n",
    "    \n",
    "end\n",
    "legend(c, loc=\"lower right\");\n",
    "\n",
    "#plot the ears\n",
    "plot( Lx, Ly, \"r.\", markersize=10)\n",
    "plot( Rx, Ry, \"r.\", markersize=10)\n"
   ]
  },
  {
   "cell_type": "markdown",
   "metadata": {},
   "source": [
    "so what do we see? we see some case specific non-linearities arround the origin, with $c = 0$ and $c = 2$ being perfectly straight, as expected. what is supprising is how linear these isolines are, given how non-linear the equations of constraint from which they were calcuated where. This analysis supports the argument that arrival time difference can be used to **encode angle directly in the horozontal plane** one unexplored feature that falls out by inspection is that there is a second, equally plausable solution to these equations, reflected over the x axis. \n",
    "\n",
    "future analysis will focus on exploring this reflection futher, and expanding the analysis to include a 3D solution, so the resulting surface can be interpreted"
   ]
  },
  {
   "cell_type": "code",
   "execution_count": null,
   "metadata": {},
   "outputs": [],
   "source": []
  }
 ],
 "metadata": {
  "kernelspec": {
   "display_name": "Julia 0.6.2",
   "language": "julia",
   "name": "julia-0.6"
  },
  "language_info": {
   "file_extension": ".jl",
   "mimetype": "application/julia",
   "name": "julia",
   "version": "0.6.2"
  }
 },
 "nbformat": 4,
 "nbformat_minor": 2
}
