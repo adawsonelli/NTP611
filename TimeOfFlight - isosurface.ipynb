{
 "cells": [
  {
   "cell_type": "markdown",
   "metadata": {},
   "source": [
    "This is a computer simulation that will attempt to answer the question, first in 2D and eventually in 3d, what does the iso line or iso surface look like for a constant time (or distance) difference, for a Time of flight calcualtion between two ears. "
   ]
  },
  {
   "cell_type": "code",
   "execution_count": 4,
   "metadata": {},
   "outputs": [
    {
     "data": {
      "text/plain": [
       "0"
      ]
     },
     "execution_count": 4,
     "metadata": {},
     "output_type": "execute_result"
    }
   ],
   "source": [
    "#define simulation constants\n",
    "Lx = -1     #left ear x\n",
    "Ly =  0     #left ear y\n",
    "Rx =  1     #right ear x\n",
    "Ry =  0     #right ear y"
   ]
  },
  {
   "cell_type": "code",
   "execution_count": 2,
   "metadata": {},
   "outputs": [
    {
     "data": {
      "text/plain": [
       "NRsolve"
      ]
     },
     "execution_count": 2,
     "metadata": {},
     "output_type": "execute_result"
    }
   ],
   "source": [
    "\"\"\"solve the non-linear algebreic equations of constraint using the Newton-Rapson method\"\"\"\n",
    "function NRsolve(Lx,Ly,Rx,Ry,Px0,Py0,c,d2)\n",
    "    #break counter\n",
    "    ctr = 1  \n",
    "    #initialize q\n",
    "    q = [Px0,Py0]\n",
    "    while norm([q]) > .0005\n",
    "        #calculate the jacobian of the expression\n",
    "        jac = [2*(q[1] - Lx) 2*(q[2] - Ly) ;\n",
    "               2*(q[1] - Rx) 2*(q[2] - Ry)]\n",
    "        #calculate the expression @ guess\n",
    "        phi = [(q[1] - Lx)^2 + (q[2] - Ly)^2 - (c + d2) ; (q[1] - Rx)^2 + (q[2] - Ry)^2 - d2]\n",
    "        \n",
    "        #calcuate dq\n",
    "        dq = jac \\ -phi\n",
    "        \n",
    "        #increment dq\n",
    "        q += dq\n",
    "        \n",
    "         #increment ctr\n",
    "        ctr += 1\n",
    "        if ctr > 100 break end\n",
    "    end\n",
    "    return q  #q = Px,Py\n",
    "end"
   ]
  },
  {
   "cell_type": "code",
   "execution_count": 3,
   "metadata": {},
   "outputs": [
    {
     "ename": "LoadError",
     "evalue": "\u001b[91mUndefVarError: Lx not defined\u001b[39m",
     "output_type": "error",
     "traceback": [
      "\u001b[91mUndefVarError: Lx not defined\u001b[39m",
      "",
      "Stacktrace:",
      " [1] \u001b[1mmacro expansion\u001b[22m\u001b[22m at \u001b[1m.\\In[3]:16\u001b[22m\u001b[22m [inlined]",
      " [2] \u001b[1manonymous\u001b[22m\u001b[22m at \u001b[1m.\\<missing>:?\u001b[22m\u001b[22m",
      " [3] \u001b[1minclude_string\u001b[22m\u001b[22m\u001b[1m(\u001b[22m\u001b[22m::String, ::String\u001b[1m)\u001b[22m\u001b[22m at \u001b[1m.\\loading.jl:522\u001b[22m\u001b[22m"
     ]
    }
   ],
   "source": [
    "\"\"\"solve the non-linear algebreic equations of constraint using the Newton-Rapson method\"\"\"\n",
    "Px0 = 1\n",
    "Py0 = 1\n",
    "c = 0\n",
    "d2 = 2\n",
    "jac = \"fuck\"\n",
    "phi =\"damn\"\n",
    "dq = 22\n",
    "ctr = 1\n",
    "dqHist = Float64[]\n",
    "\n",
    "#initialize q\n",
    "q = [Px0 ; Py0]\n",
    "while norm([dq]) > .001\n",
    "    #calculate the jacobian of the expression\n",
    "    jac = [2*(q[1] - Lx) 2*(q[2] - Ly) ;\n",
    "           2*(q[1] - Rx) 2*(q[2] - Ry)]\n",
    "    #calculate the expression @ guess\n",
    "    phi = [(q[1] - Lx)^2 + (q[2] - Ly)^2 - (c + d2) ; (q[1] - Rx)^2 + (q[2] - Ry)^2 - d2]\n",
    "\n",
    "    #calcuate dq\n",
    "    dq = jac \\ -phi\n",
    "\n",
    "    #increment dq\n",
    "    q += dq\n",
    "    \n",
    "    #increment ctr\n",
    "    ctr += 1\n",
    "    if ctr > 10000 break end\n",
    "    \n",
    "    #push\n",
    "    push!(dqHist,norm(dq))\n",
    "end\n",
    "\n"
   ]
  },
  {
   "cell_type": "code",
   "execution_count": 47,
   "metadata": {},
   "outputs": [
    {
     "data": {
      "image/png": "[encoded data removed]",
      "text/plain": [
       "PyPlot.Figure(PyObject <matplotlib.figure.Figure object at 0x0000000001D39400>)"
      ]
     },
     "metadata": {},
     "output_type": "display_data"
    },
    {
     "data": {
      "text/plain": [
       "1-element Array{PyCall.PyObject,1}:\n",
       " PyObject <matplotlib.lines.Line2D object at 0x0000000001DF9D68>"
      ]
     },
     "execution_count": 47,
     "metadata": {},
     "output_type": "execute_result"
    }
   ],
   "source": [
    "using PyPlot\n",
    "\n",
    "plot(dqHist)"
   ]
  },
  {
   "cell_type": "markdown",
   "metadata": {},
   "source": [
    "now we will test out our function with (several) test cases"
   ]
  },
  {
   "cell_type": "code",
   "execution_count": 7,
   "metadata": {},
   "outputs": [
    {
     "name": "stdout",
     "output_type": "stream",
     "text": [
      "value should be (0,1): [0.0, 1.0]\n"
     ]
    }
   ],
   "source": [
    "#we know the analytical solution to this one:\n",
    "println(\"value should be (0,1): \", NRsolve(Lx,Ly,Rx,Ry,1,1,0,2))"
   ]
  },
  {
   "cell_type": "code",
   "execution_count": 4,
   "metadata": {},
   "outputs": [
    {
     "data": {
      "text/plain": [
       "0.5000000000000001"
      ]
     },
     "execution_count": 4,
     "metadata": {},
     "output_type": "execute_result"
    }
   ],
   "source": [
    "cos(pi/3)"
   ]
  },
  {
   "cell_type": "code",
   "execution_count": 5,
   "metadata": {},
   "outputs": [
    {
     "data": {
      "text/plain": [
       "1.7320508075688772"
      ]
     },
     "execution_count": 5,
     "metadata": {},
     "output_type": "execute_result"
    }
   ],
   "source": [
    "2*sin(pi/3)"
   ]
  },
  {
   "cell_type": "code",
   "execution_count": 8,
   "metadata": {},
   "outputs": [
    {
     "data": {
      "text/plain": [
       "1.7320508075688772"
      ]
     },
     "execution_count": 8,
     "metadata": {},
     "output_type": "execute_result"
    }
   ],
   "source": [
    "(3)^.5"
   ]
  },
  {
   "cell_type": "code",
   "execution_count": null,
   "metadata": {},
   "outputs": [],
   "source": []
  }
 ],
 "metadata": {
  "kernelspec": {
   "display_name": "Julia 0.6.2",
   "language": "julia",
   "name": "julia-0.6"
  },
  "language_info": {
   "file_extension": ".jl",
   "mimetype": "application/julia",
   "name": "julia",
   "version": "0.6.2"
  }
 },
 "nbformat": 4,
 "nbformat_minor": 2
}
